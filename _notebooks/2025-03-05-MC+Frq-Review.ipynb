{
 "cells": [
  {
   "cell_type": "markdown",
   "id": "bc318b36",
   "metadata": {},
   "source": [
    "---\n",
    "layout: post\n",
    "title: MC+FRQ\n",
    "categories: ['DevOps']\n",
    "permalink: /mc\n",
    "menu: nav/tools_setup.html\n",
    "toc: True\n",
    "comments: True\n",
    "---"
   ]
  },
  {
   "cell_type": "markdown",
   "id": "c49739aa",
   "metadata": {},
   "source": [
    "**Gamify Calculator Enactment Homework**\n"
   ]
  },
  {
   "cell_type": "code",
   "execution_count": 2,
   "id": "114c334e",
   "metadata": {
    "vscode": {
     "languageId": "java"
    }
   },
   "outputs": [
    {
     "name": "stdout",
     "output_type": "stream",
     "text": [
      "Enter a prefix expression (e.g., * + 2 3 4):\n",
      "Result: 20.0\n"
     ]
    }
   ],
   "source": [
    "import java.util.*;\n",
    "\n",
    "public class PrefixCalculator {\n",
    "\n",
    "    public static double evaluatePrefix(String expression) {\n",
    "        String[] tokens = expression.trim().split(\"\\\\s+\");\n",
    "        Stack<Double> stack = new Stack<>();\n",
    "\n",
    "        // Traverse from right to left\n",
    "        for (int i = tokens.length - 1; i >= 0; i--) {\n",
    "            String token = tokens[i];\n",
    "\n",
    "            if (isOperator(token)) {\n",
    "                // Pop two operands\n",
    "                double operand1 = stack.pop();\n",
    "                double operand2 = stack.pop();\n",
    "                double result = applyOperator(token, operand1, operand2);\n",
    "                stack.push(result);\n",
    "            } else {\n",
    "                // It's a number\n",
    "                stack.push(Double.parseDouble(token));\n",
    "            }\n",
    "        }\n",
    "\n",
    "        return stack.pop();\n",
    "    }\n",
    "\n",
    "    private static boolean isOperator(String token) {\n",
    "        return token.equals(\"+\") || token.equals(\"-\") ||\n",
    "               token.equals(\"*\") || token.equals(\"/\");\n",
    "    }\n",
    "\n",
    "    private static double applyOperator(String operator, double op1, double op2) {\n",
    "        switch (operator) {\n",
    "            case \"+\": return op1 + op2;\n",
    "            case \"-\": return op1 - op2;\n",
    "            case \"*\": return op1 * op2;\n",
    "            case \"/\": return op1 / op2;\n",
    "            default: throw new IllegalArgumentException(\"Invalid operator: \" + operator);\n",
    "        }\n",
    "    }\n",
    "\n",
    "    // Testing\n",
    "    public static void main(String[] args) {\n",
    "        Scanner scanner = new Scanner(System.in);\n",
    "        System.out.println(\"Enter a prefix expression (e.g., * + 2 3 4):\");\n",
    "        String input = scanner.nextLine();\n",
    "        try {\n",
    "            double result = evaluatePrefix(input);\n",
    "            System.out.println(\"Result: \" + result);\n",
    "        } catch (Exception e) {\n",
    "            System.out.println(\"Invalid expression. \" + e.getMessage());\n",
    "        }\n",
    "    }\n",
    "}\n",
    "\n",
    "PrefixCalculator.main(null);\n"
   ]
  }
 ],
 "metadata": {
  "kernelspec": {
   "display_name": "java (IJava/j!)",
   "language": "java",
   "name": "jbang-ijava"
  },
  "language_info": {
   "codemirror_mode": "java",
   "file_extension": ".jshell",
   "mimetype": "text/x-java-source",
   "name": "Java",
   "pygments_lexer": "java",
   "version": "17.0.12+7"
  }
 },
 "nbformat": 4,
 "nbformat_minor": 5
}
