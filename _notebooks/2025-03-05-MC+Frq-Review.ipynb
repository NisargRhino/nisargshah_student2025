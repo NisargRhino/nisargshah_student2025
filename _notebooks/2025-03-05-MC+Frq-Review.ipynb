{
 "cells": [
  {
   "cell_type": "markdown",
   "id": "bc318b36",
   "metadata": {},
   "source": [
    "---\n",
    "layout: post\n",
    "title: MC+FRQ\n",
    "categories: ['DevOps']\n",
    "permalink: /mc\n",
    "menu: nav/tools_setup.html\n",
    "toc: True\n",
    "comments: True\n",
    "---"
   ]
  },
  {
   "cell_type": "markdown",
   "id": "976eb98e",
   "metadata": {},
   "source": [
    "## **MCQ Performance Review**\n",
    "<img width=\"1791\" alt=\"Image\" src=\"https://github.com/user-attachments/assets/95ddb4b4-0937-4f9c-bc0d-d06153700b84\" />\n",
    "\n",
    "I'm fairly satisfied with this score, especially considering it was my first practice MCQ. For the questions I got wrong, I now understand most of my mistakes and what led to them. Moving forward, I aim to refine these areas and improve before the AP Exams."
   ]
  },
  {
   "cell_type": "markdown",
   "id": "624b4b4f",
   "metadata": {},
   "source": [
    "### **Areas for Improvement**\n",
    "<img width=\"1806\" alt=\"Image\" src=\"https://github.com/user-attachments/assets/2003e480-6e0b-43ed-9b59-d966cdbf0d07\" />\n",
    "\n",
    "- **Recursion:** Improper base case handling and failing to ensure each recursive call reduced the problem effectively.\n",
    "- **2D Arrays:** Misinterpreted how row and column indices updated within loops, leading to incorrect element placements and variable misunderstandings.\n",
    "- **Random Number Generation:** Failed to correctly generate independent random values for number cube rolls.\n",
    "- **Loop Tracking:** Misinterpreted how `while` loops update the board in Question 31, leading to incorrect assumptions about `row--` and `col++`. "
   ]
  },
  {
   "cell_type": "markdown",
   "id": "43b10da9",
   "metadata": {},
   "source": [
    "## **Corrections**"
   ]
  },
  {
   "cell_type": "markdown",
   "id": "dbad5cad",
   "metadata": {},
   "source": [
    "### **Question 9: Number Cube Rolls**\n",
    "![Image](https://github.com/user-attachments/assets/cf01dea9-0f26-4854-9ee5-52605a32bd17)\n",
    "**Mistake:** I didn’t correctly simulate the independent rolls of two number cubes.\n",
    "**Correction:** I need to ensure each cube gets a separate random value. Practicing random number generation will help reinforce this concept."
   ]
  },
  {
   "cell_type": "markdown",
   "id": "81ff4358",
   "metadata": {},
   "source": [
    "### **Question 16: Result Variable Misunderstanding**\n",
    "![Image](https://github.com/user-attachments/assets/841f5a85-159c-4998-b335-d1ec2d476865)\n",
    "**Mistake:** I assumed the variable stored the largest value when it actually stored the column index of the largest value.\n",
    "**Correction:** I need to pay closer attention to what each variable represents within a method."
   ]
  },
  {
   "cell_type": "markdown",
   "id": "402ccefc",
   "metadata": {},
   "source": [
    "### **Question 31: Loop Misinterpretation**\n",
    "![Image](https://github.com/user-attachments/assets/93e7e122-dc2e-4022-8ae2-c8f5ce969730)\n",
    "**Mistake:** I misinterpreted how `while` loops updated the board and assumed 'X' placements followed a different pattern.\n",
    "**Correction:** I should systematically track loop updates to ensure correct pattern recognition."
   ]
  },
  {
   "cell_type": "markdown",
   "id": "e78665d0",
   "metadata": {},
   "source": [
    "## **Free Response Questions (FRQ) Solutions**"
   ]
  },
  {
   "cell_type": "markdown",
   "id": "0e6885ca",
   "metadata": {},
   "source": [
    "### **2014 FRQ - Word Scrambler**\n",
    "This class takes an array of words and creates a scrambled version by recombining word pairs."
   ]
  },
  {
   "cell_type": "code",
   "execution_count": null,
   "id": "1c202f20",
   "metadata": {},
   "outputs": [],
   "source": [
    "\n",
    "class WordScrambler:\n",
    "    def __init__(self, wordArr):\n",
    "        \"\"\"Constructor initializes scrambledWords with mixed words from the given array.\"\"\"\n",
    "        self.scrambledWords = self.mixedWords(wordArr)\n",
    "\n",
    "    def recombine(self, word1, word2):\n",
    "        \"\"\"Takes two words and combines them by taking the first half of the first word \n",
    "        and the second half of the second word.\"\"\"\n",
    "        mid1 = len(word1) // 2\n",
    "        mid2 = len(word2) // 2\n",
    "        return word1[:mid1] + word2[mid2:]\n",
    "\n",
    "    def mixedWords(self, words):\n",
    "        \"\"\"Takes an array of words and forms a new array where each pair of words is recombined.\"\"\"\n",
    "        mixed = []\n",
    "        for i in range(0, len(words), 2):\n",
    "            mixed.append(self.recombine(words[i], words[i + 1]))\n",
    "            mixed.append(self.recombine(words[i + 1], words[i]))\n",
    "        return mixed\n",
    "\n",
    "# Example Usage\n",
    "words = [\"apple\", \"banana\", \"cherry\", \"date\"]\n",
    "scrambler = WordScrambler(words)\n",
    "scrambler.scrambledWords\n",
    "    "
   ]
  },
  {
   "cell_type": "markdown",
   "id": "1b33e45b",
   "metadata": {},
   "source": [
    "### **2015 FRQ - Diverse Array**\n",
    "This class determines whether a 2D array is diverse (i.e., all row sums are unique)."
   ]
  },
  {
   "cell_type": "code",
   "execution_count": null,
   "id": "db93f90e",
   "metadata": {},
   "outputs": [],
   "source": [
    "\n",
    "class DiverseArray:\n",
    "    @staticmethod\n",
    "    def arraySum(arr):\n",
    "        \"\"\"Computes the sum of the elements in a one-dimensional array.\"\"\"\n",
    "        return sum(arr)\n",
    "\n",
    "    @staticmethod\n",
    "    def rowSums(arr2D):\n",
    "        \"\"\"Computes the row sums of a two-dimensional array.\"\"\"\n",
    "        return [DiverseArray.arraySum(row) for row in arr2D]\n",
    "\n",
    "    @staticmethod\n",
    "    def isDiverse(arr2D):\n",
    "        \"\"\"Determines if a 2D array is diverse, meaning no two rows have the same sum.\"\"\"\n",
    "        sums = DiverseArray.rowSums(arr2D)\n",
    "        return len(sums) == len(set(sums))\n",
    "\n",
    "# Example Usage\n",
    "matrix = [[1, 2, 3], [4, 5, 6], [7, 8, 9]]\n",
    "DiverseArray.isDiverse(matrix)  # Output: False (since two rows have the same sum)\n",
    "    "
   ]
  }
 ],
 "metadata": {
  "language_info": {
   "name": "python"
  }
 },
 "nbformat": 4,
 "nbformat_minor": 5
}
