{
 "cells": [
  {
   "cell_type": "markdown",
   "metadata": {},
   "source": [
    "---\n",
    "layout: post\n",
    "comments: true\n",
    "title: Period 3 2D Arrays Pt 2 - Refresher\n",
    "menu: nav/CSA_Units/frqs/per3-2Darrays-pt2.html\n",
    "permalink: csa/frqs/p3/2darrays2/hellodaniel\n",
    "---"
   ]
  },
  {
   "cell_type": "markdown",
   "metadata": {},
   "source": [
    "# 2D Array Review\n",
    "\n",
    "This is a review of 2D Arrays. Please see part 1 of the lesson for more details."
   ]
  },
  {
   "cell_type": "markdown",
   "metadata": {},
   "source": [
    "## Popcorn Hack\n",
    "\n",
    "Farmer John has 7 cats. They all eat a certain amount of magical grass, measured in lbs, every day. The farmer makes a 2D array with information about how much grass each cat ate each day. Each row represents how many pounds each cat ate that day. Each column represents a single cat. Please return a 1D array, where each element is the total amount of grass the cat ate.\n",
    "\n",
    "**TL;DR:** Sum up the values within each column and return a 1D array.\n",
    "```java\n",
    "// Sample test case\n",
    "int[][] grassData = {\n",
    "    {2, 3, 1, 4, 3, 2, 5},\n",
    "    {1, 2, 3, 1, 4, 2, 3},\n",
    "    {3, 4, 2, 5, 1, 3, 2}\n",
    "};\n",
    "\n",
    "// Your Code Here\n",
    "\n",
    "// Expected Output: [6, 9, 6, 10, 8, 7, 10]\n",
    "```\n"
   ]
  },
  {
   "cell_type": "code",
   "execution_count": 1,
   "id": "3316d0e2",
   "metadata": {},
   "outputs": [
    {
     "name": "stdout",
     "output_type": "stream",
     "text": [
      "[6, 9, 6, 10, 8, 7, 10]\n"
     ]
    }
   ],
   "source": [
    "import java.util.Arrays;\n",
    "\n",
    "public class PopcornHack {\n",
    "    public static void main(String[] args) {\n",
    "        int[][] grassData = {\n",
    "            {2, 3, 1, 4, 3, 2, 5},\n",
    "            {1, 2, 3, 1, 4, 2, 3},\n",
    "            {3, 4, 2, 5, 1, 3, 2}\n",
    "        };\n",
    "\n",
    "        int[] result = totalGrassPerCat(grassData);\n",
    "\n",
    "        System.out.println(Arrays.toString(result));\n",
    "    }\n",
    "\n",
    "    public static int[] totalGrassPerCat(int[][] grassData) {\n",
    "        int cats = grassData[0].length; \n",
    "        int[] totals = new int[cats];\n",
    "\n",
    "        for (int[] day : grassData) {\n",
    "            for (int cat = 0; cat < cats; cat++) {\n",
    "                totals[cat] += day[cat];\n",
    "            }\n",
    "        }\n",
    "        return totals;\n",
    "    }\n",
    "}\n",
    "\n",
    "PopcornHack.main(null);\n"
   ]
  }
 ],
 "metadata": {
  "kernelspec": {
   "display_name": "java (IJava/j!)",
   "language": "java",
   "name": "jbang-ijava"
  },
  "language_info": {
   "codemirror_mode": "java",
   "file_extension": ".jshell",
   "mimetype": "text/x-java-source",
   "name": "java",
   "pygments_lexer": "java",
   "version": "17.0.12+7"
  }
 },
 "nbformat": 4,
 "nbformat_minor": 5
}
