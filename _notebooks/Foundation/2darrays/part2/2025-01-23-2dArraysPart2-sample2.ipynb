{
 "cells": [
  {
   "cell_type": "raw",
   "metadata": {
    "vscode": {
     "languageId": "raw"
    }
   },
   "source": [
    "---\n",
    "layout: post\n",
    "comments: true\n",
    "title: Period 3 2D Arrays Pt 2 - Sample Problem 2\n",
    "menu: nav/CSA_Units/frqs/per3-2Darrays-pt2.html\n",
    "permalink: csa/frqs/p3/2darrays2/sample2\n",
    "---"
   ]
  },
  {
   "cell_type": "markdown",
   "metadata": {
    "vscode": {
     "languageId": "raw"
    }
   },
   "source": [
    "# Sample Problem 2 - Competition!\n",
    "\n",
    "For this problem, please listen to instructions. There will be an in-class competition which will be an opportunity for extra credit. However, you must complete this problem either way as part of the homework.\n",
    "\n",
    "## Problem\n",
    "\n",
    "This question involves a path through a two-dimensional (2D) array of integers, where the path is based on the values of elements in the array. When an element of the 2D array is accessed, the first index is used to specify the row and the second index is used to specify the column. The following `Location` class represents a row and column position in the 2D array."
   ]
  },
  {
   "cell_type": "markdown",
   "metadata": {},
   "source": [
    "The following `GridPath` class (see the next code cell) contains the 2D array and methods to use to determine a path through the array. You will write two methods of the `GridPath` class.\n",
    "\n",
    "(a) Write the `getNextLoc` method, which returns a `Location` object that represents the smaller of two neighbors of the grid element at row and col, according to the following rules.\n",
    "- The two neighbors that are considered are the element below the given element and the\n",
    "element to the right of the given element, if they exist.\n",
    "- If both neighbors exist, the Location of the neighbor with the smaller value is\n",
    "returned. Two neighbors will always have different values.\n",
    "- If only one neighbor exists, the Location of the existing neighbor is returned.\n",
    "\n",
    "For example, assume that the grid contains the following values:\n",
    "![Example grid](https://i.ibb.co/8BFKvYS/image.png)\n",
    "\n",
    "The following table shows some sample calls to getNextLoc.\n",
    "\n",
    "| Method Call | Explanation |\n",
    "| ----------- | ----------- |\n",
    "| `getNextLoc(0, 0)` | Returns the neighbor to the right (the `Location` representing the element at row 0 and column 1), since 3 < 11 |\n",
    "| `getNextLoc(1, 3)` | Returns the neighbor below (the `Location` representing the element at row 2 and column 3), since 15 < 16 |\n",
    "| `getNextLoc(2, 4)` | Returns the neighbor below (the `Location` representing the element at row 3 and column 4), since the given element has no neighbor to the right |\n",
    "| `getNextLoc(4, 3)` | Returns the neighbor to the right (the `Location` representing the element at row 4 and column 4), since the given element has no neighbor below |\n",
    "\n",
    "In the example, the `getNextLoc` method will never be called with row 4 and column 4, as\n",
    "those values would violate the precondition of the method."
   ]
  },
  {
   "cell_type": "markdown",
   "metadata": {},
   "source": [
    "(b) Write the `sumPath` method, which returns the sum of all values on a path in grid. The path\n",
    "begins with the element at row and col and is determined by successive calls to `getNextLoc`.\n",
    "The path ends when the element in the last row and the last column of grid is reached.\n",
    "For example, consider the following contents of grid. The shaded elements of grid represent the\n",
    "values on the path that results from the method call `sumPath(1, 1)`. The method call returns `19`\n",
    "because `3 + 1 + 2 + 1 + 9 + 1 + 4 + 1 + 0 + 1 + 1 + 5 = 19`.\n",
    "\n",
    "![An image of a sample path](https://i.ibb.co/bKjbkwV/image.png)"
   ]
  }
 ],
 "metadata": {
  "kernelspec": {
   "display_name": "java (IJava/j!)",
   "language": "java",
   "name": "jbang-ijava"
  },
  "language_info": {
   "codemirror_mode": "java",
   "file_extension": ".jshell",
   "mimetype": "text/x-java-source",
   "name": "java",
   "pygments_lexer": "java",
   "version": "17.0.12+7"
  }
 },
 "nbformat": 4,
 "nbformat_minor": 2
}
