{
  "cells": [
    {
      "cell_type": "markdown",
      "metadata": {},
      "source": [
        "---\n",
        "layout: post\n",
        "comments: true\n",
        "title: Period 3 2D Arrays Pt 2 - Refresher\n",
        "menu: nav/CSA_Units/frqs/per3-2Darrays-pt2.html\n",
        "permalink: csa/frqs/p3/2darrays2/refresher\n",
        "---"
      ]
    },
    {
      "cell_type": "markdown",
      "metadata": {},
      "source": [
        "# CSA Project Blog – Refresher\n",
        "\n",
        "## Overview of Projects from Blog\n",
        "In this post, I’ll provide a summary of my work in AP Computer Science A, especially focused on data structures and simulation-based projects. This includes the projects showcased on our class blog and at Night at the Museum (N@tM) in June 2025.\n",
        "\n",
        "##  Qualities\n",
        "- Strong debugging skills and backend logic implementation.\n",
        "- Proactive problem solver – for example, I implemented user-agent rotation to bypass HTTP 429 errors (rate limiting).\n",
        "- Passionate about connecting coding to real-world applications, like economics and finance.\n",
        "\n",
        "---\n",
        "\n",
        "##  Certification of Articulation Success: Data Structures\n",
        "This was a key milestone. The articulation certification covered mastery of core data structures:\n",
        "- 2D Arrays\n",
        "- ArrayLists\n",
        "- HashMaps and Sets\n",
        "- Stacks and Queues\n",
        "\n",
        "###  Homework Page Summary\n",
        "- Practiced and submitted multiple FRQs using 2D arrays.\n",
        "- Applied data structure knowledge in building efficient simulations and games.\n",
        "\n",
        "---\n",
        "\n",
        "##  Showcased Projects (N@tM – June 2025)\n",
        "\n",
        "###  Stock Market Simulation Game\n",
        "One of my favorite projects! It allows users to simulate buying and selling stocks in a realistic environment with news triggers, company stats, and time-based events.\n",
        "- I created the game logic and backend.\n",
        "- Added user-friendly UI features.\n",
        "- Managed random stock fluctuations based on real-world news categories.\n",
        "\n",
        "###  Rate Limiting Fix (User Agents)\n",
        "To avoid HTTP 429 Too Many Requests errors during API calls (like for stock data or news), I implemented a rotating user-agent system:\n",
        "- Ensures our application mimics different browser requests.\n",
        "- Avoids bans and throttling.\n",
        "\n",
        "---\n",
        "\n",
        "##  Project Gallery (Add Pictures Below)\n",
        "### Screenshot: Main Simulation Interface\n",
        "![Screenshot](https://i.postimg.cc/dhsDnkTv/Screenshot-2025-06-10-at-12-28-25-PM.png)\n",
        "\n",
        "\n",
        "### Screenshot: Debugging User Agent Rotation\n",
        "![User Agent Console Output](add_path_here)\n",
        "\n",
        "---\n",
        "\n",
        "## 💬 Reflection\n",
        "This unit helped reinforce my understanding of object-oriented programming and how to work with data structures in real applications. I'm proud of how I contributed to team projects and helped debug and improve performance throughout the course."
      ]
    }
  ],
  "metadata": {
    "kernelspec": {
      "display_name": "Python 3",
      "language": "python",
      "name": "python3"
    },
    "language_info": {
      "name": "python",
      "version": "3.9"
    }
  },
  "nbformat": 4,
  "nbformat_minor": 2
}
