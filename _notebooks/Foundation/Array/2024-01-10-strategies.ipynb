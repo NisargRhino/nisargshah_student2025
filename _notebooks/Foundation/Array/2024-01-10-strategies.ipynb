{
 "cells": [
  {
   "cell_type": "markdown",
   "metadata": {},
   "source": [
    "---\n",
    "layout: post\n",
    "toc: true\n",
    "title: Array/Strategies\n",
    "description: AP CSA FRQ Array/Arraylist Strategies\n",
    "courses: { csa: {week: 1} }\n",
    "type: ccc\n",
    "categories: [AP CSA]\n",
    "menu: nav/student_toolkit/P3CSATeamTeach/array.html\n",
    "permalink: /teamteach/array/strategies\n",
    "---"
   ]
  },
  {
   "cell_type": "code",
   "execution_count": null,
   "metadata": {},
   "outputs": [],
   "source": []
  },
  {
   "cell_type": "markdown",
   "metadata": {},
   "source": []
  },
  {
   "cell_type": "markdown",
   "metadata": {},
   "source": [
    "### Arraylist\n",
    "- resizable\n",
    "- uses *methods* to access and modify elements\n",
    "- typically stores objects\n",
    "\n",
    "**How to Create Arraylists:**\n",
    "1. Declare and Initialize\n",
    "\n",
    "```java\n",
    "ArrayList<String> al = new ArrayList<String>();\n",
    "```\n",
    "\n",
    "2. Basic Operations\n",
    "\n",
    "Insertion using `add()`\n",
    "```java\n",
    "al.add(\"apple\");\n",
    "al.add(\"orange\");\n",
    "al.add(\"banana\");\n",
    "```\n",
    "Access using `get()`\n",
    "```java\n",
    "al.get(0); \n",
    "```\n",
    "Deletion using `remove()`\n",
    "```java\n",
    "al.remove(\"orange\");\n",
    "```\n",
    "Update using `set()`\n",
    "```java\n",
    "al.set(0, \"kiwi\");\n",
    "```"
   ]
  },
  {
   "cell_type": "markdown",
   "metadata": {},
   "source": [
    "## Warmup\n",
    "Write a java program to sort an Arraylist"
   ]
  },
  {
   "cell_type": "markdown",
   "metadata": {
    "vscode": {
     "languageId": "plaintext"
    }
   },
   "source": [
    "***\n",
    "***"
   ]
  },
  {
   "cell_type": "markdown",
   "metadata": {
    "vscode": {
     "languageId": "plaintext"
    }
   },
   "source": [
    "# Checklist to Maximize Points ✅\n",
    "**Before Writing Code**\n",
    "- Understand the *method signature* (what the methods do, the return types, access modifier)\n",
    "- Paying attention to *input type* (e.g. array vs ArrayList)\n",
    "\n",
    "**Writing Code**\n",
    "- Use loops carefully (consider *bounds*)\n",
    "- Check for null/empty cases\n",
    "\n",
    "**Before Submitting Code**\n",
    "- Correct return type\n",
    "- Check whether syntax is used for array/ArrayList"
   ]
  },
  {
   "cell_type": "markdown",
   "metadata": {},
   "source": [
    "***\n",
    "***"
   ]
  },
  {
   "cell_type": "markdown",
   "metadata": {},
   "source": [
    "# Common Mistakes to Avoid ❌\n",
    "\n",
    "### `[]` vs `get` Confusion (penalty)\n",
    "[]: used to access elements in **array**\n",
    "\n",
    "get: used to access elements in **ArrayList**"
   ]
  },
  {
   "cell_type": "code",
   "execution_count": 1,
   "metadata": {},
   "outputs": [
    {
     "name": "stdout",
     "output_type": "stream",
     "text": [
      "1\n",
      "sprite\n"
     ]
    }
   ],
   "source": [
    "int[] arr = {1,2,3};\n",
    "System.out.println(arr[0]); \n",
    "\n",
    "ArrayList<String> al = new ArrayList<String>();\n",
    "al.add(\"sprite\");\n",
    "System.out.println(al.get(0));"
   ]
  },
  {
   "cell_type": "markdown",
   "metadata": {},
   "source": [
    "### `.length` vs `.size()` Confusion (no penalty)\n",
    "\n",
    ".length: property for length of a **array**\n",
    ".size(): method for length of an **Arraylist**"
   ]
  },
  {
   "cell_type": "code",
   "execution_count": 2,
   "metadata": {},
   "outputs": [
    {
     "name": "stdout",
     "output_type": "stream",
     "text": [
      "3\n",
      "2\n"
     ]
    }
   ],
   "source": [
    "String[] colors;\n",
    "colors = new String[]{\"yellow\", \"purple\", \"blue\"};\n",
    "System.out.println(colors.length);\n",
    "\n",
    "ArrayList<Integer> nums = new ArrayList<Integer>();\n",
    "nums.add(12);\n",
    "nums.add(10); \n",
    "System.out.println(nums.size());"
   ]
  },
  {
   "cell_type": "markdown",
   "metadata": {},
   "source": [
    "### Traversing Arrays/ArrayLists \n",
    "- Ensure bounds are correct (applying the right comparison/logic)\n",
    "- Account for dynamic resizing of ArrayLists for `.add()` and `.remove()`"
   ]
  },
  {
   "cell_type": "code",
   "execution_count": 5,
   "metadata": {},
   "outputs": [
    {
     "name": "stdout",
     "output_type": "stream",
     "text": [
      "Temperature at index 3: 15\n",
      "Temperature at index 2: 20\n",
      "Temperature at index 1: 25\n",
      "Temperature at index 0: 30\n"
     ]
    }
   ],
   "source": [
    "import java.util.ArrayList;\n",
    "\n",
    "public class ReverseTraversal {\n",
    "    public static void main(String[] args) {\n",
    "        ArrayList<Integer> temps = new ArrayList<>();\n",
    "        temps.add(30);\n",
    "        temps.add(25);\n",
    "        temps.add(20);\n",
    "        temps.add(15);\n",
    "\n",
    "        for (int i = temps.size() - 1; i >= 0; i--) {\n",
    "            System.out.println(\"Temperature at index \" + i + \": \" + temps.get(i));\n",
    "        }\n",
    "    }\n",
    "}\n",
    "\n",
    "ReverseTraversal.main(null);"
   ]
  },
  {
   "cell_type": "markdown",
   "metadata": {},
   "source": [
    "***\n",
    "***"
   ]
  },
  {
   "cell_type": "markdown",
   "metadata": {},
   "source": [
    "# Scoring Criteria 📝\n",
    "<img width=\"557\" alt=\"image\" src=\"https://github.com/user-attachments/assets/e82542c0-aba5-4009-b5c2-ea741c85c4fa\" />\n"
   ]
  }
 ],
 "metadata": {
  "kernelspec": {
   "display_name": "java (IJava/j!)",
   "language": "java",
   "name": "jbang-ijava"
  },
  "language_info": {
   "codemirror_mode": "java",
   "file_extension": ".jshell",
   "mimetype": "text/x-java-source",
   "name": "java",
   "pygments_lexer": "java",
   "version": "17.0.12+7"
  }
 },
 "nbformat": 4,
 "nbformat_minor": 2
}
