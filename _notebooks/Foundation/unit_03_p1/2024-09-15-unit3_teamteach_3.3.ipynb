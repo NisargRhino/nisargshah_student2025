{
 "cells": [
  {
   "cell_type": "raw",
   "metadata": {
    "vscode": {
     "languageId": "raw"
    }
   },
   "source": [
    "---\n",
    "layout: post\n",
    "title: Unit 3 Team Teach - 3.3\n",
    "description: Unit 3 Team Teach\n",
    "comments: true\n",
    "menu: nav/CSA_Units/csa_unit3_p1.html\n",
    "permalink: /csa/unit3-p1/unit3-3\n",
    "author: Alisha Hussain, Anika Bhatnagar, Kayden Le, Sharon Kodali\n",
    "---"
   ]
  },
  {
   "cell_type": "markdown",
   "metadata": {},
   "source": [
    "# 3.3 If Else Statements\n",
    "\n",
    "<a id=\"if-else-statements\"></a>\n",
    "## Purpose of Else Statements\n",
    "Else statements: Handles what happens when the if condition is false.\n",
    "Structure of If-Else:\n",
    "- If statement with a condition.\n",
    "- Else statement without a condition.\n",
    "- Both parts have code blocks surrounded by {}.\n",
    "\n"
   ]
  },
  {
   "cell_type": "markdown",
   "metadata": {},
   "source": [
    "# don't forget the brackets "
   ]
  },
  {
   "cell_type": "code",
   "execution_count": null,
   "metadata": {},
   "outputs": [],
   "source": [
    "if (x > 10) {\n",
    "\n",
    "        console.log(\"x is greater than 10\");\n",
    "        console.log(\"This code when the condition is true\");\n",
    "    } else {\n",
    "    \n",
    "        console.log(\"x is 10 or less\");\n",
    "        console.log(\"This code runs when the condition is false\");\n",
    "    }\n",
    "    Without brackets:\n",
    "    \n",
    "    if (x > 10)\n",
    "    \n",
    "        console.log(\"x is greater than 10\");\n",
    "        console.log(\"this code will always run\");"
   ]
  },
  {
   "cell_type": "markdown",
   "metadata": {},
   "source": [
    "<img width=\"816\" alt=\"image\" src=\"https://github.com/user-attachments/assets/c6701143-b87f-427b-a206-6cee0660571c\">\n",
    "\n",
    "1. Based on this code, if you were younger than 16 what would it print out?\n",
    "2. Write your own if else statement"
   ]
  },
  {
   "cell_type": "markdown",
   "metadata": {},
   "source": [
    "1. It would print out you are not old enough for a license yet/\n",
    "\n",
    "2. down below"
   ]
  },
  {
   "cell_type": "code",
   "execution_count": 3,
   "metadata": {},
   "outputs": [
    {
     "name": "stdout",
     "output_type": "stream",
     "text": [
      "The number is greater than 5.\n"
     ]
    }
   ],
   "source": [
    "public class IfElse {\n",
    "    public static void main(String[] args) {\n",
    "        int myNumber = 10;\n",
    "\n",
    "        if (myNumber > 5) {\n",
    "            System.out.println(\"The number is greater than 5.\");\n",
    "        } else {\n",
    "            System.out.println(\"The number is 5 or less.\");\n",
    "        }\n",
    "    }\n",
    "}\n",
    "\n",
    "SimpleIfElse.main(null);"
   ]
  }
 ],
 "metadata": {
  "kernelspec": {
   "display_name": "java (IJava/j!)",
   "language": "java",
   "name": "jbang-ijava"
  },
  "language_info": {
   "codemirror_mode": "java",
   "file_extension": ".jshell",
   "mimetype": "text/x-java-source",
   "name": "java",
   "pygments_lexer": "java",
   "version": "17.0.12+7"
  }
 },
 "nbformat": 4,
 "nbformat_minor": 2
}
