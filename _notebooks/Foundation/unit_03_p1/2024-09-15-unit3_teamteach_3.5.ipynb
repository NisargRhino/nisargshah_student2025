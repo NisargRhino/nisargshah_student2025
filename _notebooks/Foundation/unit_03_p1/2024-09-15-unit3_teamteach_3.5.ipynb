{
 "cells": [
  {
   "cell_type": "raw",
   "metadata": {
    "vscode": {
     "languageId": "raw"
    }
   },
   "source": [
    "---\n",
    "layout: post\n",
    "title: Unit 3 Team Teach - 3.5 Compound Booleans \n",
    "description: Unit 3 Team Teach\n",
    "comments: true\n",
    "menu: nav/CSA_Units/csa_unit3_p1.html\n",
    "permalink: /csa/unit3-p1/unit3-5\n",
    "author: Alisha Hussain, Anika Bhatnagar, Kayden Le, Sharon Kodali\n",
    "---"
   ]
  },
  {
   "cell_type": "markdown",
   "metadata": {},
   "source": [
    "# 3.5 Compund Boolean expressions \n",
    "## Nested conditional statements \n",
    "\n",
    "<a id=\"conditional-statements\"></a>\n",
    "\n",
    "definition: if statements within other if statements "
   ]
  },
  {
   "cell_type": "code",
   "execution_count": null,
   "metadata": {
    "vscode": {
     "languageId": "java"
    }
   },
   "outputs": [],
   "source": [
    "public class Main {\n",
    "    public static void main(String[] args) {\n",
    "        int age = 20;\n",
    "        boolean isStudent = true;\n",
    "\n",
    "        // Outer if-else block\n",
    "        if (age >= 18) {\n",
    "            // Nested if-else block inside the first condition\n",
    "            if (isStudent) {\n",
    "                System.out.println(\"You are an adult and a student.\");\n",
    "            } else {\n",
    "                System.out.println(\"You are an adult.\");\n",
    "            }\n",
    "        } else {\n",
    "            System.out.println(\"You are not an adult.\");\n",
    "        }\n",
    "    }\n",
    "}"
   ]
  },
  {
   "cell_type": "markdown",
   "metadata": {},
   "source": [
    "# Simple Example of a Nested Conditional Statement\n",
    "\n",
    "Let's look at a **very basic** example of a nested conditional statement using `if-else` blocks. \n",
    "\n",
    "### Scenario:\n",
    "We want to check if a person is an adult and, if they are, we want to know if they are also a student."
   ]
  },
  {
   "cell_type": "markdown",
   "metadata": {},
   "source": [
    "# Compound Conditional Statement\n",
    "\n",
    "A **compound conditional statement** is when two or more conditions are combined into a single `if` statement using **logical operators** like `&&` (AND), `||` (OR), or `!` (NOT). This allows us to check multiple conditions at once without needing to nest `if` statements.\n",
    "\n",
    "### Logical Operators:\n",
    "- `&&` (AND): True if **both** conditions are true.\n",
    "- `||` (OR): True if **at least one** condition is true.\n",
    "- `!` (NOT): Reverses the result of a condition (true becomes false, and false becomes true).\n",
    "\n",
    "### Example of a Compound Conditional Statement\n",
    "\n",
    "Let's say we want to check if a person is an **adult** and **a student** at the same time. Instead of using a nested `if` statement, we can use a compound conditional statement."
   ]
  },
  {
   "cell_type": "code",
   "execution_count": 1,
   "metadata": {
    "vscode": {
     "languageId": "java"
    }
   },
   "outputs": [],
   "source": [
    "public class Main {\n",
    "    public static void main(String[] args) {\n",
    "        int age = 20;\n",
    "        boolean isStudent = true;\n",
    "\n",
    "        // Compound conditional using && (AND)\n",
    "        if (age >= 18 && isStudent) {\n",
    "            System.out.println(\"You are an adult and a student.\");\n",
    "        } else {\n",
    "            System.out.println(\"Either you are not an adult, or you are not a student.\");\n",
    "        }\n",
    "    }\n",
    "}"
   ]
  },
  {
   "cell_type": "markdown",
   "metadata": {},
   "source": [
    "### common mistake: Dangling else \n",
    "    - Java does not care about indentation\n",
    "    - else always belongs to the CLOSEST if\n",
    "    - curly braces can be use to format else so it belongs to the FIRST 'if'\n",
    "\n",
    "### Popcorn hack\n",
    "- explain the purpose of this algorithm, and what each if condition is used for\n",
    "- what would be output if input is \n",
    "    - age 20\n",
    "    - anual income 1500\n",
    "    - student status: yes"
   ]
  },
  {
   "cell_type": "code",
   "execution_count": null,
   "metadata": {
    "vscode": {
     "languageId": "java"
    }
   },
   "outputs": [],
   "source": [
    "function checkMembershipEligibility() {\n",
    "    // Get user input\n",
    "    let age = parseInt(prompt(\"Enter your age:\"));  // Age input\n",
    "    let income = parseFloat(prompt(\"Enter your annual income:\"));  // Annual income input\n",
    "    let isStudent = prompt(\"Are you a student? (yes/no):\").toLowerCase() === 'yes';  // Student status input\n",
    "\n",
    "    // Initialize an empty array to hold results\n",
    "    let results = [];\n",
    "\n",
    "    // Check eligibility for different memberships\n",
    "\n",
    "    // Basic Membership\n",
    "    if (age >= 18 && income >= 20000) {\n",
    "        results.push(\"You qualify for Basic Membership.\");\n",
    "    }\n",
    "\n",
    "    // Premium Membership\n",
    "    if (age >= 25 && income >= 50000) {\n",
    "        results.push(\"You qualify for Premium Membership.\");\n",
    "    }\n",
    "\n",
    "    // Student Discount\n",
    "    if (isStudent) {\n",
    "        results.push(\"You are eligible for a Student Discount.\");\n",
    "    }\n",
    "\n",
    "    // Senior Discount\n",
    "    if (age >= 65) {\n",
    "        results.push(\"You qualify for a Senior Discount.\");\n",
    "    }\n",
    "\n",
    "    // If no eligibility, provide a default message\n",
    "    if (results.length === 0) {\n",
    "        results.push(\"You do not qualify for any memberships or discounts.\");\n",
    "    }\n",
    "\n",
    "    // Output all results\n",
    "    results.forEach(result => console.log(result));\n",
    "}\n",
    "\n",
    "// Call the function to execute\n",
    "checkMembershipEligibility();"
   ]
  },
  {
   "cell_type": "markdown",
   "metadata": {},
   "source": [
    "This code segment does not work.\n",
    "\n",
    "Purpose is to determine the eligibility of users for memberships based on their age, annual income, and if they are a student. \n",
    "\n",
    "Ouput: They are a student and applicable for a student discount. "
   ]
  },
  {
   "cell_type": "markdown",
   "metadata": {},
   "source": [
    "## Popcorn Hack #2\n",
    "- Write a program that checks if a person can get a discount based on their age and student status. You can define your own discount criteria! Use compound conditionals to determine the output."
   ]
  },
  {
   "cell_type": "code",
   "execution_count": 2,
   "metadata": {
    "vscode": {
     "languageId": "java"
    }
   },
   "outputs": [
    {
     "name": "stdout",
     "output_type": "stream",
     "text": [
      "You are eligible for a discount.\n"
     ]
    }
   ],
   "source": [
    "public class Main {\n",
    "    public static void main(String[] args) {\n",
    "        int age = 60;\n",
    "        boolean isStudent = true;\n",
    "\n",
    "        boolean isEligibleForDiscount = (age < 18) || (age >= 65) || isStudent;\n",
    "\n",
    "        if (isEligibleForDiscount) {\n",
    "            System.out.println(\"You are eligible for a discount.\");\n",
    "        } else {\n",
    "            System.out.println(\"You are not eligible for a discount.\");\n",
    "        }\n",
    "    }\n",
    "}\n",
    "\n",
    "Main.main(null);"
   ]
  },
  {
   "cell_type": "code",
   "execution_count": null,
   "metadata": {
    "vscode": {
     "languageId": "java"
    }
   },
   "outputs": [],
   "source": [
    "public class Main {\n",
    "    public static void main(String[] args) {\n",
    "        int age = 30; // Change this value for testing\n",
    "        boolean isStudent = true; // Change this value for testing\n",
    "\n",
    "        // Your compound conditional logic here\n",
    "    }\n",
    "}"
   ]
  }
 ],
 "metadata": {
  "kernelspec": {
   "display_name": "java (IJava/j!)",
   "language": "java",
   "name": "jbang-ijava"
  },
  "language_info": {
   "codemirror_mode": "java",
   "file_extension": ".jshell",
   "mimetype": "text/x-java-source",
   "name": "Java",
   "pygments_lexer": "java",
   "version": "17.0.12+7"
  }
 },
 "nbformat": 4,
 "nbformat_minor": 2
}
