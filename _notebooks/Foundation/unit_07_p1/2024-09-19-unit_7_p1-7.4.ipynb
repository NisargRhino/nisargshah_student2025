{
 "cells": [
  {
   "cell_type": "raw",
   "metadata": {
    "vscode": {
     "languageId": "raw"
    }
   },
   "source": [
    "---\n",
    "layout: post\n",
    "toc: true\n",
    "title: 7.4 - Developing Algorithms Using ArrayLists\n",
    "description: ArrayLists Lesson\n",
    "authors: Aidan Lau, Saathvik Gampa, Sri Surapaneni, Tanav Kambhampati\n",
    "categories: [AP CSA]\n",
    "type: ccc\n",
    "permalink: /csa/unit7-p1/unit7-4\n",
    "menu: nav/CSA_Units/csa_unit7_p1.html\n",
    "---"
   ]
  },
  {
   "cell_type": "markdown",
   "metadata": {},
   "source": [
    "# 7.4 Developing Algorithms Using ArrayLists\n",
    "\n",
    "Common Arraylist Methods: \n",
    "- size(): Returns the size of the arraylist as an Integer\n",
    "- add(object): Adds an object to the end of your ArrayList\n",
    "- void add(index, object): Addes an object to an index of your choice. Shifts the index of everything to the right by one and increases size by 1\n",
    "- get(index): Retrieves the object at the index specified\n",
    "- set(index, obj): Like void add, but instead of adding, it replaces the object that's already in that index\n",
    "- remove(index): Removes the object at specified index"
   ]
  },
  {
   "cell_type": "code",
   "execution_count": 1,
   "metadata": {
    "vscode": {
     "languageId": "java"
    }
   },
   "outputs": [
    {
     "name": "stdout",
     "output_type": "stream",
     "text": [
      "3\n"
     ]
    }
   ],
   "source": [
    "//size() & add(object)\n",
    "\n",
    "ArrayList<Double> numbers = new ArrayList<>();\n",
    "    numbers.add(1.0);\n",
    "    numbers.add(2.0);\n",
    "    numbers.add(3.0);\n",
    "\n",
    "int size = numbers.size();\n",
    "\n",
    "System.out.println(size);"
   ]
  },
  {
   "cell_type": "code",
   "execution_count": 2,
   "metadata": {
    "vscode": {
     "languageId": "java"
    }
   },
   "outputs": [
    {
     "name": "stdout",
     "output_type": "stream",
     "text": [
      "3.0\n",
      "4.0\n",
      "3.0\n"
     ]
    }
   ],
   "source": [
    "//void add(index, object)\n",
    "//get(index)\n",
    "ArrayList<Double> numbers = new ArrayList<>();\n",
    "    numbers.add(1.0);\n",
    "    numbers.add(2.0);\n",
    "    numbers.add(3.0);\n",
    "\n",
    "System.out.println(numbers.get(2));\n",
    "\n",
    "    numbers.add(2,4.0);\n",
    "\n",
    "System.out.println(numbers.get(2));\n",
    "System.out.println(numbers.get(3));"
   ]
  },
  {
   "cell_type": "code",
   "execution_count": 3,
   "metadata": {
    "vscode": {
     "languageId": "java"
    }
   },
   "outputs": [
    {
     "name": "stdout",
     "output_type": "stream",
     "text": [
      "3.0\n",
      "4.0\n"
     ]
    }
   ],
   "source": [
    "// set(index, obj)\n",
    "\n",
    "\n",
    "ArrayList<Double> numbers = new ArrayList<>();\n",
    "    numbers.add(1.0);\n",
    "    numbers.add(2.0);\n",
    "    numbers.add(3.0);\n",
    "\n",
    "System.out.println(numbers.get(2));\n",
    "\n",
    "    numbers.set(2,4.0);\n",
    "\n",
    "System.out.println(numbers.get(2));\n"
   ]
  },
  {
   "cell_type": "code",
   "execution_count": 1,
   "metadata": {
    "vscode": {
     "languageId": "java"
    }
   },
   "outputs": [
    {
     "name": "stdout",
     "output_type": "stream",
     "text": [
      "3.0\n",
      "1.0\n",
      "2.0\n"
     ]
    }
   ],
   "source": [
    "// remove(index)\n",
    "\n",
    "\n",
    "ArrayList<Double> numbers = new ArrayList<>();\n",
    "    numbers.add(1.0);\n",
    "    numbers.add(2.0);\n",
    "    numbers.add(3.0);\n",
    "System.out.println(numbers.get(2));\n",
    "    numbers.remove(2);\n",
    "\n",
    "System.out.println(numbers.get(0));\n",
    "System.out.println(numbers.get(1));\n",
    "//System.out.println(numbers.get(2));\n",
    "\n",
    "//anybody know why we get an IndexOutofBoundsException eror?"
   ]
  },
  {
   "cell_type": "markdown",
   "metadata": {},
   "source": [
    "Here's an example of a program using **Arrays** that finds the maximum value:"
   ]
  },
  {
   "cell_type": "code",
   "execution_count": 5,
   "metadata": {
    "vscode": {
     "languageId": "java"
    }
   },
   "outputs": [
    {
     "name": "stdout",
     "output_type": "stream",
     "text": [
      "The maximum value is: 5.0\n"
     ]
    }
   ],
   "source": [
    "public class Main {\n",
    "    public static void main(String[] args) {\n",
    "        double[] values = {1, 2, 3, 4, 5};\n",
    "\n",
    "        double maxValue = findMax(values);\n",
    "        System.out.println(\"The maximum value is: \" + maxValue);\n",
    "    }\n",
    "\n",
    "    private static double findMax(double[] values) {\n",
    "        double max = values[0];\n",
    "        for (int index = 1; index < values.length; index++) {\n",
    "            if (values[index] > max) {\n",
    "                max = values[index];\n",
    "            }\n",
    "        }\n",
    "        return max;\n",
    "    }\n",
    "}\n",
    "Main.main(null);"
   ]
  },
  {
   "cell_type": "markdown",
   "metadata": {},
   "source": [
    "#### Now, how can we modify this to use an ArrayList?"
   ]
  },
  {
   "cell_type": "code",
   "execution_count": 6,
   "metadata": {
    "vscode": {
     "languageId": "java"
    }
   },
   "outputs": [
    {
     "name": "stdout",
     "output_type": "stream",
     "text": [
      "The maximum value is: 4.9\n"
     ]
    }
   ],
   "source": [
    "\n",
    "public class Main {\n",
    "    public static void main(String[] args) {\n",
    "        ArrayList<Double> values = new ArrayList<>();\n",
    "        values.add(1.2);\n",
    "        values.add(3.4);\n",
    "        values.add(2.6);\n",
    "        values.add(4.9);\n",
    "        values.add(0.8);\n",
    "\n",
    "        double maxValue = findMax(values);\n",
    "        System.out.println(\"The maximum value is: \" + maxValue);\n",
    "    }\n",
    "\n",
    "    private static double findMax(ArrayList<Double> values) {\n",
    "        double max = values.get(0);\n",
    "\n",
    "        for (int index = 1; index < values.size(); index++) {\n",
    "            if (values.get(index) > max) {\n",
    "                max = values.get(index);\n",
    "            }\n",
    "        }\n",
    "        return max; \n",
    "    }\n",
    "}\n",
    "Main.main(null);\n"
   ]
  },
  {
   "cell_type": "markdown",
   "metadata": {},
   "source": [
    "Homework:\n",
    "\n",
    "(Paragraph Answer)\n",
    "1. What is the difference between the two examples above. Which one is better and why?\n",
    "\n",
    "(Code Answer)\n",
    "\n",
    "2. Make your own algorithm using ArrayLists that finds the sum of the elements in the ArrayList"
   ]
  },
  {
   "cell_type": "markdown",
   "metadata": {},
   "source": [
    "Paragraph answer:\n",
    "The difference between the two examples above lies in the way they handle the ArrayList operations. The first example initializes the ArrayList without specifying the generic type in the constructor, which can lead to raw type warnings and potential type safety issues. The second example correctly specifies the generic type in the constructor, ensuring type safety and avoiding raw type warnings. The second example is better because it adheres to Java's type safety principles, making the code more robust and less prone to runtime errors."
   ]
  },
  {
   "cell_type": "code",
   "execution_count": 2,
   "metadata": {
    "vscode": {
     "languageId": "java"
    }
   },
   "outputs": [
    {
     "name": "stdout",
     "output_type": "stream",
     "text": [
      "The sum of the elements in the ArrayList is: 150\n"
     ]
    }
   ],
   "source": [
    "import java.util.ArrayList;\n",
    "\n",
    "public class SumArrayList {\n",
    "    public static void main(String[] args) {\n",
    "        ArrayList<Integer> numbers = new ArrayList<Integer>();\n",
    "        numbers.add(10);\n",
    "        numbers.add(20);\n",
    "        numbers.add(30);\n",
    "        numbers.add(40);\n",
    "        numbers.add(50);\n",
    "\n",
    "        int sum = 0;\n",
    "        for (Integer number : numbers) {\n",
    "            sum += number;\n",
    "        }\n",
    "\n",
    "        System.out.println(\"The sum of the elements in the ArrayList is: \" + sum);\n",
    "    }\n",
    "}\n",
    "\n",
    "SumArrayList.main(null);"
   ]
  }
 ],
 "metadata": {
  "kernelspec": {
   "display_name": "java (IJava/j!)",
   "language": "java",
   "name": "jbang-ijava"
  },
  "language_info": {
   "codemirror_mode": "java",
   "file_extension": ".jshell",
   "mimetype": "text/x-java-source",
   "name": "Java",
   "pygments_lexer": "java",
   "version": "17.0.12+7"
  }
 },
 "nbformat": 4,
 "nbformat_minor": 4
}
