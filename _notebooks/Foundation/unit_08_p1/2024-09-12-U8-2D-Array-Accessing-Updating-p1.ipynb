{
 "cells": [
  {
   "cell_type": "raw",
   "metadata": {
    "vscode": {
     "languageId": "raw"
    }
   },
   "source": [
    "---\n",
    "layout: post\n",
    "toc: true\n",
    "title: Unit 8 - 2D Arrays Accessing and Updating\n",
    "description: 2D Arrays Lesson\n",
    "authors: Anusha Khobare\n",
    "categories: [AP CSA]\n",
    "type: ccc\n",
    "permalink: /unit8lesson-p1-accessing-updating\n",
    "menu: nav/CSA_Units/csa_unit8_p1.html\n",
    "---"
   ]
  },
  {
   "cell_type": "markdown",
   "metadata": {},
   "source": [
    "## Accessing and updating the values of a 2D array\n",
    "In Java, accessing and updating values in a 2D array is done using the row and column indices. The general format is:\n",
    "\n",
    "~~~\n",
    "- **Accessing a value**: array[row][column]\n",
    "- **Updating a value**: array[row][column] = newValue;\n",
    "~~~\n",
    "\n",
    "![image](https://github.com/user-attachments/assets/b1f79b97-f81b-4ea5-951d-5c098fae0767)\n"
   ]
  },
  {
   "cell_type": "markdown",
   "metadata": {},
   "source": [
    "### Popcorn Hack 1 (Part 2)\n",
    "- **Update the values of the array, you made in part 1 to the group members in another group**"
   ]
  },
  {
   "cell_type": "code",
   "execution_count": 1,
   "metadata": {
    "vscode": {
     "languageId": "java"
    }
   },
   "outputs": [
    {
     "name": "stdout",
     "output_type": "stream",
     "text": [
      "Initial group:\n",
      "nisarg and dinesh\n",
      "imaad and tanay\n",
      "\n",
      "Updated group:\n",
      "tanav1 and tanav2\n",
      "tanav3 and tanav4\n"
     ]
    }
   ],
   "source": [
    "public class GroupPairs {\n",
    "    public static void main(String[] args) {\n",
    "        String[][] group2 = new String[2][2];\n",
    "        group2[0][0] = \"nisarg\";\n",
    "        group2[0][1] = \"dinesh\";\n",
    "        group2[1][0] = \"imaad\";\n",
    "        group2[1][1] = \"tanay\";\n",
    "\n",
    "        System.out.println(\"Initial group:\");\n",
    "        for (String[] pair : group2) {\n",
    "            System.out.println(pair[0] + \" and \" + pair[1]);\n",
    "        }\n",
    "\n",
    "        group2[0][0] = \"tanav1\";\n",
    "        group2[0][1] = \"tanav2\";\n",
    "        group2[1][0] = \"tanav3\";\n",
    "        group2[1][1] = \"tanav4\";\n",
    "\n",
    "        System.out.println(\"\\nUpdated group:\");\n",
    "        for (String[] pair : group2) {\n",
    "            System.out.println(pair[0] + \" and \" + pair[1]);\n",
    "        }\n",
    "    }\n",
    "}\n",
    "\n",
    "GroupPairs.main(null);"
   ]
  }
 ],
 "metadata": {
  "kernelspec": {
   "display_name": "java (IJava/j!)",
   "language": "java",
   "name": "jbang-ijava"
  },
  "language_info": {
   "codemirror_mode": "java",
   "file_extension": ".jshell",
   "mimetype": "text/x-java-source",
   "name": "Java",
   "pygments_lexer": "java",
   "version": "17.0.12+7"
  },
  "orig_nbformat": 4
 },
 "nbformat": 4,
 "nbformat_minor": 2
}
